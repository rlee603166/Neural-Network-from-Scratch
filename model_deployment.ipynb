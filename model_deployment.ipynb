{
 "cells": [
  {
   "cell_type": "code",
   "execution_count": 20,
   "id": "cb3028d3-f6cf-4610-bd90-525b4a3e49f4",
   "metadata": {},
   "outputs": [],
   "source": [
    "import numpy as np\n",
    "import pandas as pd\n",
    "import importlib\n",
    "import model\n",
    "from keras.datasets import mnist"
   ]
  },
  {
   "cell_type": "code",
   "execution_count": 21,
   "id": "c3b19abb-b8ec-4358-affe-00979531fdfb",
   "metadata": {},
   "outputs": [],
   "source": [
    "(X_train, y_train), (X_test, y_test) = mnist.load_data()"
   ]
  },
  {
   "cell_type": "code",
   "execution_count": 22,
   "id": "a8f182b5-19b4-446d-a0d0-79b07a349439",
   "metadata": {},
   "outputs": [],
   "source": [
    "X_train = X_train.reshape((X_train.shape[0], 28*28)).astype('float32').T\n",
    "X_test = X_test.reshape((X_test.shape[0], 28*28)).astype('float32').T\n",
    "\n",
    "X_train = X_train / 255\n",
    "X_test = X_test / 255"
   ]
  },
  {
   "cell_type": "code",
   "execution_count": 23,
   "id": "e6aba7a3-a9dd-4a94-9cdb-319cfb6d5d4e",
   "metadata": {},
   "outputs": [
    {
     "name": "stdout",
     "output_type": "stream",
     "text": [
      "[3 9 3 ... 3 9 3] [5 0 4 ... 5 6 8]\n",
      "Accuracy for iteration 0: 0.12375\n",
      "[3 0 4 ... 7 6 8] [5 0 4 ... 5 6 8]\n",
      "Accuracy for iteration 100: 0.6437\n",
      "[3 0 4 ... 7 6 8] [5 0 4 ... 5 6 8]\n",
      "Accuracy for iteration 200: 0.7965833333333333\n",
      "[3 0 4 ... 5 6 8] [5 0 4 ... 5 6 8]\n",
      "Accuracy for iteration 300: 0.8593666666666666\n",
      "[3 0 4 ... 5 6 8] [5 0 4 ... 5 6 8]\n",
      "Accuracy for iteration 400: 0.8794166666666666\n",
      "[3 0 4 ... 5 6 8] [5 0 4 ... 5 6 8]\n",
      "Accuracy for iteration 500: 0.8905\n",
      "[3 0 4 ... 5 6 8] [5 0 4 ... 5 6 8]\n",
      "Accuracy for iteration 600: 0.8974833333333333\n",
      "[3 0 4 ... 5 6 8] [5 0 4 ... 5 6 8]\n",
      "Accuracy for iteration 700: 0.90185\n",
      "[3 0 4 ... 5 6 8] [5 0 4 ... 5 6 8]\n",
      "Accuracy for iteration 800: 0.9048833333333334\n",
      "[3 0 4 ... 5 6 8] [5 0 4 ... 5 6 8]\n",
      "Accuracy for iteration 900: 0.90715\n"
     ]
    }
   ],
   "source": [
    "importlib.reload(model)\n",
    "from model import NeuralNetwork\n",
    "\n",
    "model1 = NeuralNetwork()\n",
    "model1.fit(X_train, y_train)"
   ]
  },
  {
   "cell_type": "code",
   "execution_count": 24,
   "id": "b48cdefb-c272-4415-871b-b4344e2a2b91",
   "metadata": {},
   "outputs": [],
   "source": [
    "y_pred = model1.predict(X_test)"
   ]
  },
  {
   "cell_type": "code",
   "execution_count": 25,
   "id": "21d1b7ee-d092-432b-b961-1deee3142194",
   "metadata": {},
   "outputs": [
    {
     "name": "stdout",
     "output_type": "stream",
     "text": [
      "[7 2 1 ... 4 5 6] [7 2 1 ... 4 5 6]\n"
     ]
    },
    {
     "data": {
      "text/plain": [
       "0.9124"
      ]
     },
     "execution_count": 25,
     "metadata": {},
     "output_type": "execute_result"
    }
   ],
   "source": [
    "model1.accuracy(y_pred, y_test)"
   ]
  },
  {
   "cell_type": "code",
   "execution_count": null,
   "id": "7fd506c3-ddad-4fdc-8d61-84211bdec1ef",
   "metadata": {},
   "outputs": [],
   "source": []
  }
 ],
 "metadata": {
  "kernelspec": {
   "display_name": "Python 3 (ipykernel)",
   "language": "python",
   "name": "python3"
  },
  "language_info": {
   "codemirror_mode": {
    "name": "ipython",
    "version": 3
   },
   "file_extension": ".py",
   "mimetype": "text/x-python",
   "name": "python",
   "nbconvert_exporter": "python",
   "pygments_lexer": "ipython3",
   "version": "3.12.3"
  }
 },
 "nbformat": 4,
 "nbformat_minor": 5
}
