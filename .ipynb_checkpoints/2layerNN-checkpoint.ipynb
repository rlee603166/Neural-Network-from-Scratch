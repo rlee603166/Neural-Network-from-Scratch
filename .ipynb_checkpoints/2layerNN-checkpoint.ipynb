{
 "cells": [
  {
   "cell_type": "code",
   "execution_count": 60,
   "metadata": {
    "id": "LvsDvOXpMszz"
   },
   "outputs": [],
   "source": [
    "import numpy as np\n",
    "import pandas as pd\n",
    "from keras.datasets import mnist\n",
    "np.random.seed(42)"
   ]
  },
  {
   "cell_type": "code",
   "execution_count": 61,
   "metadata": {
    "colab": {
     "base_uri": "https://localhost:8080/",
     "height": 256
    },
    "id": "M3WtEvosM0Y8",
    "outputId": "f140559f-9c8a-4aa0-9fd7-67b16cc6e00a"
   },
   "outputs": [],
   "source": [
    "(X_train, y_train), (X_test, y_test) = mnist.load_data()"
   ]
  },
  {
   "cell_type": "code",
   "execution_count": 62,
   "metadata": {},
   "outputs": [],
   "source": [
    "X_train = X_train.reshape((X_train.shape[0], 28*28)).astype('float32').T\n",
    "X_test = X_test.reshape((X_test.shape[0], 28*28)).astype('float32').T"
   ]
  },
  {
   "cell_type": "code",
   "execution_count": 63,
   "metadata": {},
   "outputs": [],
   "source": [
    "X_train = X_train / 255\n",
    "X_test = X_test / 255"
   ]
  },
  {
   "cell_type": "code",
   "execution_count": 64,
   "metadata": {},
   "outputs": [
    {
     "data": {
      "text/plain": [
       "(784, 60000)"
      ]
     },
     "execution_count": 64,
     "metadata": {},
     "output_type": "execute_result"
    }
   ],
   "source": [
    "X_train.shape"
   ]
  },
  {
   "cell_type": "code",
   "execution_count": 65,
   "metadata": {},
   "outputs": [],
   "source": [
    "def label_encoder(y):\n",
    "    zeros = np.zeros((y.shape[0], np.max(y)+1))\n",
    "    for i, num in enumerate(y):\n",
    "        zeros[i][np.squeeze(num)] = 1\n",
    "    return zeros.T"
   ]
  },
  {
   "cell_type": "code",
   "execution_count": 28,
   "metadata": {
    "id": "uIJ5oxTNTNLp"
   },
   "outputs": [],
   "source": [
    "def initialize_parameters(n_x, n_h=10, n_y=10): # (number of inputs, number of units in hidden, number of outputs)\n",
    "    # Need 2 sets of parameters for 2-layer network\n",
    "    W1 = np.random.randn(n_h, n_x) * 0.01\n",
    "    b1 = np.zeros((n_h, 1))\n",
    "    W2 = np.random.randn(n_y, n_h) * 0.01\n",
    "    b2 = np.zeros((n_y, 1))\n",
    "\n",
    "    parameters = {\n",
    "        'W1': W1,\n",
    "        'b1': b1,\n",
    "        'W2': W2,\n",
    "        'b2': b2\n",
    "    }\n",
    "    return parameters"
   ]
  },
  {
   "cell_type": "code",
   "execution_count": 29,
   "metadata": {
    "id": "d0mrLyI3NwCj"
   },
   "outputs": [],
   "source": [
    "def relu(Z):\n",
    "    return np.maximum(0,Z)"
   ]
  },
  {
   "cell_type": "code",
   "execution_count": 30,
   "metadata": {
    "id": "1TDc8wx7RQk5"
   },
   "outputs": [],
   "source": [
    "def sigmoid(Z):\n",
    "    sigmoid = 1 / (1 + np.exp(-Z))\n",
    "    return sigmoid"
   ]
  },
  {
   "cell_type": "code",
   "execution_count": 31,
   "metadata": {},
   "outputs": [],
   "source": [
    "def softmax(Z):\n",
    "    softmax = np.exp(Z) / sum(np.exp(Z))\n",
    "    return softmax"
   ]
  },
  {
   "cell_type": "code",
   "execution_count": 32,
   "metadata": {
    "id": "nOn8M6_HSXZi"
   },
   "outputs": [],
   "source": [
    "def forward_propagation(X, params):\n",
    "    W1, b1, W2, b2 = params.values()\n",
    "\n",
    "    Z1 = np.dot(W1, X) + b1\n",
    "    A1 = relu(Z1)\n",
    "    Z2 = np.dot(W2, A1) + b2\n",
    "    A2 = softmax(Z2)\n",
    "    cache = {\n",
    "        'Z1': Z1,\n",
    "        'A1': A1,\n",
    "        'Z2': Z2,\n",
    "        'A2': A2\n",
    "    }\n",
    "    return A2, cache"
   ]
  },
  {
   "cell_type": "code",
   "execution_count": 33,
   "metadata": {
    "colab": {
     "base_uri": "https://localhost:8080/"
    },
    "id": "_PgkxewKWhTG",
    "outputId": "908164cd-ce9b-41b1-d5a4-a26a08cfe3fb"
   },
   "outputs": [
    {
     "data": {
      "text/plain": [
       "(10, 60000)"
      ]
     },
     "execution_count": 33,
     "metadata": {},
     "output_type": "execute_result"
    }
   ],
   "source": [
    "params = initialize_parameters(X_train.shape[0])\n",
    "A2, cache = forward_propagation(X_train, params)\n",
    "A2.shape"
   ]
  },
  {
   "cell_type": "code",
   "execution_count": 34,
   "metadata": {
    "id": "x4M6PQKDWreK"
   },
   "outputs": [],
   "source": [
    "def compute_cost(A2, y):\n",
    "    m = y.shape[0] \n",
    "    cost = -np.sum(y * np.log(A2)) / m\n",
    "\n",
    "    return cost"
   ]
  },
  {
   "cell_type": "code",
   "execution_count": 35,
   "metadata": {
    "colab": {
     "base_uri": "https://localhost:8080/"
    },
    "id": "ZosQ0m5Mbvzm",
    "outputId": "ccbc1cec-095a-4cd2-a819-515b04734713"
   },
   "outputs": [
    {
     "data": {
      "text/plain": [
       "13814.147802701613"
      ]
     },
     "execution_count": 35,
     "metadata": {},
     "output_type": "execute_result"
    }
   ],
   "source": [
    "compute_cost(A2, y_train)"
   ]
  },
  {
   "cell_type": "code",
   "execution_count": null,
   "metadata": {},
   "outputs": [],
   "source": []
  },
  {
   "cell_type": "markdown",
   "metadata": {},
   "source": [
    "### Back Propagation"
   ]
  },
  {
   "cell_type": "code",
   "execution_count": 36,
   "metadata": {},
   "outputs": [],
   "source": [
    "def relu_deriv(Z):\n",
    "    return Z > 0"
   ]
  },
  {
   "cell_type": "code",
   "execution_count": 66,
   "metadata": {},
   "outputs": [],
   "source": [
    "def back_propagation(params, cache, X, y):\n",
    "    W1, b1, W2, b2 = params.values()\n",
    "    Z1, A1, Z2, A2 = cache.values()\n",
    "    \n",
    "    m = X.shape[1]\n",
    "    y = label_encoder(y)\n",
    "    \n",
    "    dZ2 = A2 - y\n",
    "    dW2 = (1 / m) * np.dot(dZ2, A1.T)\n",
    "    db2 = (1 / m) * np.sum(dZ2, axis=1, keepdims=True)\n",
    "    dZ1 = np.dot(W2.T, dZ2) * relu_deriv(Z1)\n",
    "    dW1 = (1 / m) * np.dot(dZ1, X.T)\n",
    "    db1 = (1 / m) * np.sum(dZ1, axis=1, keepdims=True)\n",
    "\n",
    "    grad_params = {\n",
    "        'dZ2': dZ2,\n",
    "        'dW2': dW2,\n",
    "        'db2': db2,\n",
    "        'dZ1': dZ1,\n",
    "        'dW1': dW1,\n",
    "        'db1': db1\n",
    "    }\n",
    "\n",
    "    return grad_params"
   ]
  },
  {
   "cell_type": "code",
   "execution_count": 67,
   "metadata": {},
   "outputs": [],
   "source": [
    "def update_parameters(params, gradients, learning_rate):\n",
    "    \n",
    "    params['W1'] -= learning_rate * gradients['dW1']\n",
    "    params['b1'] -= learning_rate * gradients['db1']\n",
    "    params['W2'] -= learning_rate * gradients['dW2']\n",
    "    params['b2'] -= learning_rate * gradients['db2']"
   ]
  },
  {
   "cell_type": "markdown",
   "metadata": {},
   "source": [
    "### Putting together the model"
   ]
  },
  {
   "cell_type": "code",
   "execution_count": 71,
   "metadata": {},
   "outputs": [],
   "source": [
    "def get_predictions(A2):\n",
    "    return np.argmax(A2,0)\n",
    "\n",
    "def get_accuracy(predictions, Y):\n",
    "    print(predictions, Y)\n",
    "    return np.sum(predictions == Y) / Y.size"
   ]
  },
  {
   "cell_type": "code",
   "execution_count": 72,
   "metadata": {},
   "outputs": [],
   "source": [
    "def model(X, y, learning_rate = 0.1, num_iterations = 3000):\n",
    "    parameters = initialize_parameters(X.shape[0])\n",
    "    costs = []\n",
    "    for i in range(num_iterations):  \n",
    "        A2, cache = forward_propagation(X, parameters)\n",
    "        curr_cost = compute_cost(A2,y)\n",
    "\n",
    "        gradients = back_propagation(parameters, cache, X, y)\n",
    "        \n",
    "        update_parameters(parameters, gradients, learning_rate)\n",
    "        \n",
    "        if i % 100 == 0:\n",
    "            costs.append(curr_cost)\n",
    "            print(f'Cost for iteration {i}: {curr_cost}')\n",
    "            print(f'Accuracy for iteration {i}: {get_accuracy(get_predictions(A2), y)}')\n",
    "    return parameters, costs"
   ]
  },
  {
   "cell_type": "code",
   "execution_count": 73,
   "metadata": {},
   "outputs": [
    {
     "name": "stdout",
     "output_type": "stream",
     "text": [
      "Cost for iteration 0: 102.55574267067732\n",
      "[7 6 6 ... 6 7 6] [5 0 4 ... 5 6 8]\n",
      "Accuracy for iteration 0: 0.0762\n",
      "Cost for iteration 100: 113.687410776892\n",
      "[3 0 4 ... 8 0 6] [5 0 4 ... 5 6 8]\n",
      "Accuracy for iteration 100: 0.5751\n",
      "Cost for iteration 200: 212.7216821639505\n",
      "[3 0 4 ... 5 6 8] [5 0 4 ... 5 6 8]\n",
      "Accuracy for iteration 200: 0.82365\n",
      "Cost for iteration 300: 268.1081262203305\n",
      "[3 0 4 ... 5 6 8] [5 0 4 ... 5 6 8]\n",
      "Accuracy for iteration 300: 0.8677166666666667\n",
      "Cost for iteration 400: 298.4930574853925\n",
      "[3 0 4 ... 5 6 8] [5 0 4 ... 5 6 8]\n",
      "Accuracy for iteration 400: 0.88375\n",
      "Cost for iteration 500: 317.6917898051611\n",
      "[3 0 4 ... 5 6 8] [5 0 4 ... 5 6 8]\n",
      "Accuracy for iteration 500: 0.8912166666666667\n",
      "Cost for iteration 600: 330.76889958870976\n",
      "[3 0 4 ... 5 6 8] [5 0 4 ... 5 6 8]\n",
      "Accuracy for iteration 600: 0.8975\n",
      "Cost for iteration 700: 340.1318672904291\n",
      "[3 0 4 ... 5 6 8] [5 0 4 ... 5 6 8]\n",
      "Accuracy for iteration 700: 0.9014666666666666\n",
      "Cost for iteration 800: 347.1753057754654\n",
      "[3 0 4 ... 5 6 8] [5 0 4 ... 5 6 8]\n",
      "Accuracy for iteration 800: 0.9049833333333334\n",
      "Cost for iteration 900: 352.68790075533065\n",
      "[5 0 4 ... 5 6 8] [5 0 4 ... 5 6 8]\n",
      "Accuracy for iteration 900: 0.9080333333333334\n",
      "Cost for iteration 1000: 357.1911141505017\n",
      "[5 0 4 ... 5 6 8] [5 0 4 ... 5 6 8]\n",
      "Accuracy for iteration 1000: 0.9103333333333333\n",
      "Cost for iteration 1100: 361.01866830719507\n",
      "[5 0 4 ... 5 6 8] [5 0 4 ... 5 6 8]\n",
      "Accuracy for iteration 1100: 0.9123\n"
     ]
    },
    {
     "ename": "KeyboardInterrupt",
     "evalue": "",
     "output_type": "error",
     "traceback": [
      "\u001b[1;31m---------------------------------------------------------------------------\u001b[0m",
      "\u001b[1;31mKeyboardInterrupt\u001b[0m                         Traceback (most recent call last)",
      "Cell \u001b[1;32mIn[73], line 1\u001b[0m\n\u001b[1;32m----> 1\u001b[0m parameters, costs \u001b[38;5;241m=\u001b[39m \u001b[43mmodel\u001b[49m\u001b[43m(\u001b[49m\u001b[43mX_train\u001b[49m\u001b[43m,\u001b[49m\u001b[43m \u001b[49m\u001b[43my_train\u001b[49m\u001b[43m,\u001b[49m\u001b[43m \u001b[49m\u001b[43mnum_iterations\u001b[49m\u001b[43m \u001b[49m\u001b[38;5;241;43m=\u001b[39;49m\u001b[43m \u001b[49m\u001b[38;5;241;43m2500\u001b[39;49m\u001b[43m)\u001b[49m\n",
      "Cell \u001b[1;32mIn[72], line 8\u001b[0m, in \u001b[0;36mmodel\u001b[1;34m(X, y, learning_rate, num_iterations)\u001b[0m\n\u001b[0;32m      5\u001b[0m A2, cache \u001b[38;5;241m=\u001b[39m forward_propagation(X, parameters)\n\u001b[0;32m      6\u001b[0m curr_cost \u001b[38;5;241m=\u001b[39m compute_cost(A2,y)\n\u001b[1;32m----> 8\u001b[0m gradients \u001b[38;5;241m=\u001b[39m \u001b[43mback_propagation\u001b[49m\u001b[43m(\u001b[49m\u001b[43mparameters\u001b[49m\u001b[43m,\u001b[49m\u001b[43m \u001b[49m\u001b[43mcache\u001b[49m\u001b[43m,\u001b[49m\u001b[43m \u001b[49m\u001b[43mX\u001b[49m\u001b[43m,\u001b[49m\u001b[43m \u001b[49m\u001b[43my\u001b[49m\u001b[43m)\u001b[49m\n\u001b[0;32m     10\u001b[0m update_parameters(parameters, gradients, learning_rate)\n\u001b[0;32m     12\u001b[0m \u001b[38;5;28;01mif\u001b[39;00m i \u001b[38;5;241m%\u001b[39m \u001b[38;5;241m100\u001b[39m \u001b[38;5;241m==\u001b[39m \u001b[38;5;241m0\u001b[39m:\n",
      "Cell \u001b[1;32mIn[66], line 6\u001b[0m, in \u001b[0;36mback_propagation\u001b[1;34m(params, cache, X, y)\u001b[0m\n\u001b[0;32m      3\u001b[0m Z1, A1, Z2, A2 \u001b[38;5;241m=\u001b[39m cache\u001b[38;5;241m.\u001b[39mvalues()\n\u001b[0;32m      5\u001b[0m m \u001b[38;5;241m=\u001b[39m X\u001b[38;5;241m.\u001b[39mshape[\u001b[38;5;241m1\u001b[39m]\n\u001b[1;32m----> 6\u001b[0m y \u001b[38;5;241m=\u001b[39m \u001b[43mlabel_encoder\u001b[49m\u001b[43m(\u001b[49m\u001b[43my\u001b[49m\u001b[43m)\u001b[49m\n\u001b[0;32m      8\u001b[0m dZ2 \u001b[38;5;241m=\u001b[39m A2 \u001b[38;5;241m-\u001b[39m y\n\u001b[0;32m      9\u001b[0m dW2 \u001b[38;5;241m=\u001b[39m (\u001b[38;5;241m1\u001b[39m \u001b[38;5;241m/\u001b[39m m) \u001b[38;5;241m*\u001b[39m np\u001b[38;5;241m.\u001b[39mdot(dZ2, A1\u001b[38;5;241m.\u001b[39mT)\n",
      "Cell \u001b[1;32mIn[65], line 4\u001b[0m, in \u001b[0;36mlabel_encoder\u001b[1;34m(y)\u001b[0m\n\u001b[0;32m      2\u001b[0m zeros \u001b[38;5;241m=\u001b[39m np\u001b[38;5;241m.\u001b[39mzeros((y\u001b[38;5;241m.\u001b[39mshape[\u001b[38;5;241m0\u001b[39m], np\u001b[38;5;241m.\u001b[39mmax(y)\u001b[38;5;241m+\u001b[39m\u001b[38;5;241m1\u001b[39m))\n\u001b[0;32m      3\u001b[0m \u001b[38;5;28;01mfor\u001b[39;00m i, num \u001b[38;5;129;01min\u001b[39;00m \u001b[38;5;28menumerate\u001b[39m(y):\n\u001b[1;32m----> 4\u001b[0m     zeros[i][\u001b[43mnp\u001b[49m\u001b[38;5;241;43m.\u001b[39;49m\u001b[43msqueeze\u001b[49m\u001b[43m(\u001b[49m\u001b[43mnum\u001b[49m\u001b[43m)\u001b[49m] \u001b[38;5;241m=\u001b[39m \u001b[38;5;241m1\u001b[39m\n\u001b[0;32m      5\u001b[0m \u001b[38;5;28;01mreturn\u001b[39;00m zeros\u001b[38;5;241m.\u001b[39mT\n",
      "File \u001b[1;32m~\\AppData\\Local\\Programs\\Python\\Python312\\Lib\\site-packages\\numpy\\core\\fromnumeric.py:1556\u001b[0m, in \u001b[0;36msqueeze\u001b[1;34m(a, axis)\u001b[0m\n\u001b[0;32m   1554\u001b[0m     \u001b[38;5;28;01mreturn\u001b[39;00m _wrapit(a, \u001b[38;5;124m'\u001b[39m\u001b[38;5;124msqueeze\u001b[39m\u001b[38;5;124m'\u001b[39m, axis\u001b[38;5;241m=\u001b[39maxis)\n\u001b[0;32m   1555\u001b[0m \u001b[38;5;28;01mif\u001b[39;00m axis \u001b[38;5;129;01mis\u001b[39;00m \u001b[38;5;28;01mNone\u001b[39;00m:\n\u001b[1;32m-> 1556\u001b[0m     \u001b[38;5;28;01mreturn\u001b[39;00m \u001b[43msqueeze\u001b[49m\u001b[43m(\u001b[49m\u001b[43m)\u001b[49m\n\u001b[0;32m   1557\u001b[0m \u001b[38;5;28;01melse\u001b[39;00m:\n\u001b[0;32m   1558\u001b[0m     \u001b[38;5;28;01mreturn\u001b[39;00m squeeze(axis\u001b[38;5;241m=\u001b[39maxis)\n",
      "\u001b[1;31mKeyboardInterrupt\u001b[0m: "
     ]
    }
   ],
   "source": [
    "parameters, costs = model(X_train, y_train, num_iterations = 2500)"
   ]
  },
  {
   "cell_type": "code",
   "execution_count": 74,
   "metadata": {},
   "outputs": [],
   "source": [
    "def predict(parameters, X):\n",
    "    A2, cache = forward_propagation(X, parameters)\n",
    "    return A2\n",
    "\n",
    "def accuracy(y_hat, y):\n",
    "    return np.sum(y_hat == y) / y.shape[1]"
   ]
  },
  {
   "cell_type": "code",
   "execution_count": 75,
   "metadata": {},
   "outputs": [],
   "source": [
    "y_hat = predict(parameters, X_test)"
   ]
  },
  {
   "cell_type": "code",
   "execution_count": 76,
   "metadata": {},
   "outputs": [
    {
     "ename": "IndexError",
     "evalue": "tuple index out of range",
     "output_type": "error",
     "traceback": [
      "\u001b[1;31m---------------------------------------------------------------------------\u001b[0m",
      "\u001b[1;31mIndexError\u001b[0m                                Traceback (most recent call last)",
      "Cell \u001b[1;32mIn[76], line 1\u001b[0m\n\u001b[1;32m----> 1\u001b[0m \u001b[38;5;28mprint\u001b[39m(\u001b[43maccuracy\u001b[49m\u001b[43m(\u001b[49m\u001b[43my_hat\u001b[49m\u001b[43m,\u001b[49m\u001b[43m \u001b[49m\u001b[43my_test\u001b[49m\u001b[43m)\u001b[49m)\n",
      "Cell \u001b[1;32mIn[74], line 6\u001b[0m, in \u001b[0;36maccuracy\u001b[1;34m(y_hat, y)\u001b[0m\n\u001b[0;32m      5\u001b[0m \u001b[38;5;28;01mdef\u001b[39;00m \u001b[38;5;21maccuracy\u001b[39m(y_hat, y):\n\u001b[1;32m----> 6\u001b[0m     \u001b[38;5;28;01mreturn\u001b[39;00m np\u001b[38;5;241m.\u001b[39msum(y_hat \u001b[38;5;241m==\u001b[39m y) \u001b[38;5;241m/\u001b[39m \u001b[43my\u001b[49m\u001b[38;5;241;43m.\u001b[39;49m\u001b[43mshape\u001b[49m\u001b[43m[\u001b[49m\u001b[38;5;241;43m1\u001b[39;49m\u001b[43m]\u001b[49m\n",
      "\u001b[1;31mIndexError\u001b[0m: tuple index out of range"
     ]
    }
   ],
   "source": [
    "print(accuracy(y_hat, y_test))"
   ]
  },
  {
   "cell_type": "code",
   "execution_count": 55,
   "metadata": {},
   "outputs": [
    {
     "data": {
      "text/html": [
       "<div>\n",
       "<style scoped>\n",
       "    .dataframe tbody tr th:only-of-type {\n",
       "        vertical-align: middle;\n",
       "    }\n",
       "\n",
       "    .dataframe tbody tr th {\n",
       "        vertical-align: top;\n",
       "    }\n",
       "\n",
       "    .dataframe thead th {\n",
       "        text-align: right;\n",
       "    }\n",
       "</style>\n",
       "<table border=\"1\" class=\"dataframe\">\n",
       "  <thead>\n",
       "    <tr style=\"text-align: right;\">\n",
       "      <th></th>\n",
       "      <th>0</th>\n",
       "      <th>1</th>\n",
       "      <th>2</th>\n",
       "      <th>3</th>\n",
       "      <th>4</th>\n",
       "      <th>5</th>\n",
       "      <th>6</th>\n",
       "      <th>7</th>\n",
       "      <th>8</th>\n",
       "      <th>9</th>\n",
       "      <th>...</th>\n",
       "      <th>9990</th>\n",
       "      <th>9991</th>\n",
       "      <th>9992</th>\n",
       "      <th>9993</th>\n",
       "      <th>9994</th>\n",
       "      <th>9995</th>\n",
       "      <th>9996</th>\n",
       "      <th>9997</th>\n",
       "      <th>9998</th>\n",
       "      <th>9999</th>\n",
       "    </tr>\n",
       "  </thead>\n",
       "  <tbody>\n",
       "    <tr>\n",
       "      <th>0</th>\n",
       "      <td>4.856827e-04</td>\n",
       "      <td>3.074045e-04</td>\n",
       "      <td>0.000002</td>\n",
       "      <td>9.996222e-01</td>\n",
       "      <td>2.503206e-04</td>\n",
       "      <td>7.464623e-08</td>\n",
       "      <td>3.661559e-06</td>\n",
       "      <td>5.930513e-08</td>\n",
       "      <td>2.033052e-04</td>\n",
       "      <td>1.678190e-05</td>\n",
       "      <td>...</td>\n",
       "      <td>6.645386e-08</td>\n",
       "      <td>6.535278e-06</td>\n",
       "      <td>1.170034e-04</td>\n",
       "      <td>9.968092e-01</td>\n",
       "      <td>5.721046e-09</td>\n",
       "      <td>1.155522e-08</td>\n",
       "      <td>2.443515e-06</td>\n",
       "      <td>1.561463e-07</td>\n",
       "      <td>0.000174</td>\n",
       "      <td>3.090937e-05</td>\n",
       "    </tr>\n",
       "    <tr>\n",
       "      <th>1</th>\n",
       "      <td>2.016717e-08</td>\n",
       "      <td>1.260299e-06</td>\n",
       "      <td>0.977771</td>\n",
       "      <td>5.995946e-13</td>\n",
       "      <td>3.081777e-07</td>\n",
       "      <td>9.881065e-01</td>\n",
       "      <td>1.447871e-06</td>\n",
       "      <td>9.422509e-04</td>\n",
       "      <td>2.795576e-07</td>\n",
       "      <td>1.332611e-09</td>\n",
       "      <td>...</td>\n",
       "      <td>9.415699e-08</td>\n",
       "      <td>1.831838e-08</td>\n",
       "      <td>1.748437e-10</td>\n",
       "      <td>1.393750e-14</td>\n",
       "      <td>9.930713e-01</td>\n",
       "      <td>1.612256e-07</td>\n",
       "      <td>6.584914e-07</td>\n",
       "      <td>1.775654e-07</td>\n",
       "      <td>0.000023</td>\n",
       "      <td>1.589430e-13</td>\n",
       "    </tr>\n",
       "    <tr>\n",
       "      <th>2</th>\n",
       "      <td>2.034124e-03</td>\n",
       "      <td>9.858677e-01</td>\n",
       "      <td>0.010030</td>\n",
       "      <td>4.893500e-05</td>\n",
       "      <td>1.887505e-03</td>\n",
       "      <td>1.940448e-03</td>\n",
       "      <td>3.688496e-07</td>\n",
       "      <td>1.723185e-04</td>\n",
       "      <td>1.845765e-04</td>\n",
       "      <td>2.756038e-07</td>\n",
       "      <td>...</td>\n",
       "      <td>2.014379e-04</td>\n",
       "      <td>5.907356e-04</td>\n",
       "      <td>2.405008e-06</td>\n",
       "      <td>1.558797e-07</td>\n",
       "      <td>4.018688e-03</td>\n",
       "      <td>9.989210e-01</td>\n",
       "      <td>2.796025e-04</td>\n",
       "      <td>8.724582e-06</td>\n",
       "      <td>0.000019</td>\n",
       "      <td>6.800232e-05</td>\n",
       "    </tr>\n",
       "    <tr>\n",
       "      <th>3</th>\n",
       "      <td>6.842393e-03</td>\n",
       "      <td>9.040977e-03</td>\n",
       "      <td>0.003745</td>\n",
       "      <td>3.693621e-05</td>\n",
       "      <td>3.457087e-04</td>\n",
       "      <td>2.558400e-03</td>\n",
       "      <td>6.669800e-05</td>\n",
       "      <td>2.901665e-03</td>\n",
       "      <td>2.487063e-07</td>\n",
       "      <td>4.074279e-06</td>\n",
       "      <td>...</td>\n",
       "      <td>5.400591e-04</td>\n",
       "      <td>3.301396e-02</td>\n",
       "      <td>9.008343e-06</td>\n",
       "      <td>3.008626e-07</td>\n",
       "      <td>5.074407e-04</td>\n",
       "      <td>9.428806e-04</td>\n",
       "      <td>9.993043e-01</td>\n",
       "      <td>3.620368e-05</td>\n",
       "      <td>0.000468</td>\n",
       "      <td>3.761023e-09</td>\n",
       "    </tr>\n",
       "    <tr>\n",
       "      <th>4</th>\n",
       "      <td>2.813634e-06</td>\n",
       "      <td>8.693558e-12</td>\n",
       "      <td>0.000064</td>\n",
       "      <td>1.457269e-08</td>\n",
       "      <td>9.637840e-01</td>\n",
       "      <td>8.478498e-06</td>\n",
       "      <td>9.733093e-01</td>\n",
       "      <td>8.496978e-03</td>\n",
       "      <td>2.583630e-03</td>\n",
       "      <td>2.641582e-02</td>\n",
       "      <td>...</td>\n",
       "      <td>5.290313e-08</td>\n",
       "      <td>3.409153e-08</td>\n",
       "      <td>1.363392e-01</td>\n",
       "      <td>9.018921e-10</td>\n",
       "      <td>2.389315e-07</td>\n",
       "      <td>1.177902e-11</td>\n",
       "      <td>4.089741e-10</td>\n",
       "      <td>9.827593e-01</td>\n",
       "      <td>0.000624</td>\n",
       "      <td>8.086560e-07</td>\n",
       "    </tr>\n",
       "  </tbody>\n",
       "</table>\n",
       "<p>5 rows × 10000 columns</p>\n",
       "</div>"
      ],
      "text/plain": [
       "           0             1         2             3             4     \\\n",
       "0  4.856827e-04  3.074045e-04  0.000002  9.996222e-01  2.503206e-04   \n",
       "1  2.016717e-08  1.260299e-06  0.977771  5.995946e-13  3.081777e-07   \n",
       "2  2.034124e-03  9.858677e-01  0.010030  4.893500e-05  1.887505e-03   \n",
       "3  6.842393e-03  9.040977e-03  0.003745  3.693621e-05  3.457087e-04   \n",
       "4  2.813634e-06  8.693558e-12  0.000064  1.457269e-08  9.637840e-01   \n",
       "\n",
       "           5             6             7             8             9     ...  \\\n",
       "0  7.464623e-08  3.661559e-06  5.930513e-08  2.033052e-04  1.678190e-05  ...   \n",
       "1  9.881065e-01  1.447871e-06  9.422509e-04  2.795576e-07  1.332611e-09  ...   \n",
       "2  1.940448e-03  3.688496e-07  1.723185e-04  1.845765e-04  2.756038e-07  ...   \n",
       "3  2.558400e-03  6.669800e-05  2.901665e-03  2.487063e-07  4.074279e-06  ...   \n",
       "4  8.478498e-06  9.733093e-01  8.496978e-03  2.583630e-03  2.641582e-02  ...   \n",
       "\n",
       "           9990          9991          9992          9993          9994  \\\n",
       "0  6.645386e-08  6.535278e-06  1.170034e-04  9.968092e-01  5.721046e-09   \n",
       "1  9.415699e-08  1.831838e-08  1.748437e-10  1.393750e-14  9.930713e-01   \n",
       "2  2.014379e-04  5.907356e-04  2.405008e-06  1.558797e-07  4.018688e-03   \n",
       "3  5.400591e-04  3.301396e-02  9.008343e-06  3.008626e-07  5.074407e-04   \n",
       "4  5.290313e-08  3.409153e-08  1.363392e-01  9.018921e-10  2.389315e-07   \n",
       "\n",
       "           9995          9996          9997      9998          9999  \n",
       "0  1.155522e-08  2.443515e-06  1.561463e-07  0.000174  3.090937e-05  \n",
       "1  1.612256e-07  6.584914e-07  1.775654e-07  0.000023  1.589430e-13  \n",
       "2  9.989210e-01  2.796025e-04  8.724582e-06  0.000019  6.800232e-05  \n",
       "3  9.428806e-04  9.993043e-01  3.620368e-05  0.000468  3.761023e-09  \n",
       "4  1.177902e-11  4.089741e-10  9.827593e-01  0.000624  8.086560e-07  \n",
       "\n",
       "[5 rows x 10000 columns]"
      ]
     },
     "execution_count": 55,
     "metadata": {},
     "output_type": "execute_result"
    }
   ],
   "source": [
    "df = pd.DataFrame(y_hat)\n",
    "df.head()"
   ]
  },
  {
   "cell_type": "code",
   "execution_count": null,
   "metadata": {},
   "outputs": [],
   "source": []
  }
 ],
 "metadata": {
  "colab": {
   "provenance": []
  },
  "kernelspec": {
   "display_name": "Python 3 (ipykernel)",
   "language": "python",
   "name": "python3"
  },
  "language_info": {
   "codemirror_mode": {
    "name": "ipython",
    "version": 3
   },
   "file_extension": ".py",
   "mimetype": "text/x-python",
   "name": "python",
   "nbconvert_exporter": "python",
   "pygments_lexer": "ipython3",
   "version": "3.12.2"
  }
 },
 "nbformat": 4,
 "nbformat_minor": 4
}
